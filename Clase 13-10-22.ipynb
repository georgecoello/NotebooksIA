{
 "cells": [
  {
   "cell_type": "markdown",
   "id": "bd4afe66-edad-4e98-8e08-3e403c7c2cda",
   "metadata": {},
   "source": [
    "13-10-2022\n",
    "Inteligencia Artificial \n",
    "===\n",
    "Investigar y analizar los data sets de Kaggle para poder hacer una mejora o cosas por el estilo (jugar con la creatividad, predicciones en base a los que se encuentran) [no se impondrá ningún data set]"
   ]
  },
  {
   "cell_type": "markdown",
   "id": "091af20e-5a61-4411-b247-689a475457fd",
   "metadata": {},
   "source": [
    "La relación dek dataset mostrado es de 1-1; y se llama modelos relacionales por la relación que se tienen entre ellas. \n",
    "\n",
    "Para hacer la transformación a una relación 1-N en SQL se haría de la siguiente manera: \n",
    "Ejemplo: \n",
    "(Relación 1-1)\n",
    "País         Y2001           Y2002\n",
    "HND            17              18\n",
    "ARG            15              16\n",
    "\n",
    "Para una relación 1-N\n",
    "País         Year           Value\n",
    "HND          2001             14\n",
    "HND          2002             17\n",
    "ARG          2001             15\n",
    "ARG          2002             16\n",
    "\n",
    "Group by\n",
    "--- \n",
    "Dice que habrá una reducción de columnas, y hay una posibilidad que reduzca el número de registros\n",
    "\n",
    "//Operación que se hace en sql para hacer el cambio de relación es: \n",
    "- Select Pais, 'Y2001' as Year, Y2001 as Values from T Union All\n",
    "- Select Pais, 'Y2002' as Year, Y2002 as Values from T\n",
    "\n",
    "El equivalente en pandas de la operacion anterior es \"LOC\" para la selección, \"CONCAT\" para la unión"
   ]
  },
  {
   "cell_type": "code",
   "execution_count": 2,
   "id": "e4dfb77b-68ea-4bc1-bf15-59b01ef5f1b9",
   "metadata": {},
   "outputs": [],
   "source": [
    "import pandas as pd \n",
    "import numpy as np"
   ]
  },
  {
   "cell_type": "code",
   "execution_count": null,
   "id": "46004624-a45f-4f8f-9fb3-08515e073389",
   "metadata": {},
   "outputs": [],
   "source": [
    "df = pd.read_csv(\"Nombre archivo.csv\", delimeter = \",\")"
   ]
  },
  {
   "cell_type": "code",
   "execution_count": null,
   "id": "e75ec306-6c9f-41c9-a210-f381416fa839",
   "metadata": {},
   "outputs": [],
   "source": [
    "df.dtypes"
   ]
  },
  {
   "cell_type": "raw",
   "id": "748f1eef-9146-44ab-9276-44c0e84416e5",
   "metadata": {},
   "source": [
    "dtypes va a mostrar el tipo de datos de cada tabla "
   ]
  },
  {
   "cell_type": "code",
   "execution_count": null,
   "id": "27b37cc6-f84f-49e5-9d18-c533045bd6a1",
   "metadata": {},
   "outputs": [],
   "source": [
    "df.describe()"
   ]
  },
  {
   "cell_type": "markdown",
   "id": "3d3f761a-c9a4-40ab-9e8f-b30b4ee43457",
   "metadata": {},
   "source": [
    "El describe() nos muestra los valores importantes de la tabla y nos ayuda a darnos cuenta si se encuentran valores atípicos en los datos "
   ]
  },
  {
   "cell_type": "markdown",
   "id": "a3bf15ac-9513-4aeb-90d1-bdba44d97741",
   "metadata": {},
   "source": [
    "loc[ : , : ]\n",
    "En la parte izquierda de los corchetes hace referencia a los filtros y validaciones que se quieran aplicar a nivel de registro; mientras que en la parte derecha de los corchetes es un arreglo de strings para poder hacer una selección de las columnas con las que se quieren trabajar \n",
    "\n",
    "Select * From T Where C1 = \"Y\" en loc sería de la siguiente manera\n",
    "T.LOC[:,:]\n",
    "- El asterisco va en la parte derecha del corchete\n",
    "- Todo lo que va después del Where va en la parte derecha del corchete \n",
    "- T es el nombre de la tabla"
   ]
  },
  {
   "cell_type": "code",
   "execution_count": null,
   "id": "f0098881-8d13-4064-989e-db6f1c09794b",
   "metadata": {},
   "outputs": [],
   "source": [
    "dftemp= df.loc[:,['Country Name','Country Code','1991']]\n",
    "dftemp['Year'] = '1991'\n",
    "dftemp.columns = ['Country Name', 'Country Code','Value','Year']\n",
    "dftemp.loc[:,'Country Name', 'Country Code','Year', 'Value']"
   ]
  },
  {
   "cell_type": "markdown",
   "id": "a4352126-34b9-4a1f-8cec-0f1aedbc34f7",
   "metadata": {},
   "source": [
    "df.columns \n",
    "Retorna el nombre de las columnas "
   ]
  },
  {
   "cell_type": "code",
   "execution_count": null,
   "id": "b34baa3a-5256-42c2-86fa-e370d1328abb",
   "metadata": {},
   "outputs": [],
   "source": [
    "dffinal = pd.DataFrame()\n",
    "for y in df.columns[2:]:\n",
    "    dftemp= df.loc[:,['Country Name','Country Code',y]]\n",
    "    dftemp['Year'] = y\n",
    "    dftemp.columns = ['Country Name', 'Country Code','Value','Year']\n",
    "    dftemp.loc[:,'Country Name', 'Country Code','Year', 'Value']\n",
    "    \n",
    "    dffinal = pd.concat([dffinal, dftemp])"
   ]
  },
  {
   "cell_type": "markdown",
   "id": "5476ae11-1e84-48de-9bc0-47452217b24f",
   "metadata": {},
   "source": [
    "Como no se quieren iterar las primeraas dos columnas, entonces se hace el uso de: \n",
    "    df.columns [2:] de esta manera se va a tomar del valor 2 hasta el último, y si se quiere en un rango entonces se coloca ambos números\n",
    "    \n",
    "El pd.concat unirá los dataframe que se coloquen dentro de los corchetes; primero se pondrá donde se unirán y luego el temporal"
   ]
  },
  {
   "cell_type": "markdown",
   "id": "4ce357a2-738f-4d2a-a8d3-cac6a4745200",
   "metadata": {},
   "source": [
    "Con la función merge añadirle más información a esto que se hizo. Información demogáfica [continente, población], por tanto se deberá buscar un dataframe de información de país\n",
    "\n",
    "Máximo de información 7285 registros "
   ]
  }
 ],
 "metadata": {
  "kernelspec": {
   "display_name": "Python 3 (ipykernel)",
   "language": "python",
   "name": "python3"
  },
  "language_info": {
   "codemirror_mode": {
    "name": "ipython",
    "version": 3
   },
   "file_extension": ".py",
   "mimetype": "text/x-python",
   "name": "python",
   "nbconvert_exporter": "python",
   "pygments_lexer": "ipython3",
   "version": "3.9.12"
  }
 },
 "nbformat": 4,
 "nbformat_minor": 5
}
